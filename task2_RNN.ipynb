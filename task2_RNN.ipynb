{
 "cells": [
  {
   "cell_type": "code",
   "execution_count": 1,
   "id": "cb2d2e4b-33ea-4234-8189-dbff00358daf",
   "metadata": {},
   "outputs": [],
   "source": [
    "import os, gc, pickle, scipy.sparse\n",
    "import pandas as pd\n",
    "import matplotlib.pyplot as plt\n",
    "import numpy as np\n",
    "from colorama import Fore, Back, Style\n",
    "from matplotlib.ticker import MaxNLocator\n",
    "\n",
    "from sklearn.model_selection import GroupKFold\n",
    "from sklearn.decomposition import TruncatedSVD\n",
    "from sklearn.metrics import mean_squared_error"
   ]
  },
  {
   "cell_type": "code",
   "execution_count": 2,
   "id": "4dcdc7a4-050a-4fca-b3b6-26c8603ab527",
   "metadata": {},
   "outputs": [
    {
     "name": "stdout",
     "output_type": "stream",
     "text": [
      "(119651, 4)\n"
     ]
    }
   ],
   "source": [
    "metadata_df = pd.read_csv(r'metadata.csv', index_col='cell_id')\n",
    "metadata_df = metadata_df[metadata_df.technology==\"citeseq\"]\n",
    "print(metadata_df.shape)"
   ]
  },
  {
   "cell_type": "code",
   "execution_count": 3,
   "id": "6caa7c95-50d2-4755-bea2-fb63726fa9d1",
   "metadata": {},
   "outputs": [
    {
     "name": "stdout",
     "output_type": "stream",
     "text": [
      "(70988, 140)\n"
     ]
    }
   ],
   "source": [
    "Y = pd.read_hdf('train_cite_targets.h5')\n",
    "print(Y.shape)"
   ]
  },
  {
   "cell_type": "code",
   "execution_count": 4,
   "id": "8ea7260b-5674-4a8d-b462-b6d0bed43c01",
   "metadata": {},
   "outputs": [
    {
     "name": "stdout",
     "output_type": "stream",
     "text": [
      "(70988, 512)\n"
     ]
    }
   ],
   "source": [
    "import pickle\n",
    "X_svd= pickle.load(open(\"X_svd.pckl\", \"rb\"))  \n",
    "print(X_svd.shape) "
   ]
  },
  {
   "cell_type": "code",
   "execution_count": 5,
   "id": "c3ab19df-0276-466e-a6ad-a6a5ef6b4e19",
   "metadata": {},
   "outputs": [
    {
     "name": "stdout",
     "output_type": "stream",
     "text": [
      "RNN(\n",
      "  (rnn): RNN(512, 256)\n",
      "  (out): Linear(in_features=256, out_features=140, bias=True)\n",
      ")\n"
     ]
    }
   ],
   "source": [
    "import torch\n",
    "from torch import nn\n",
    "import numpy as np\n",
    "import matplotlib.pyplot as plt\n",
    "\n",
    "torch.manual_seed(2019)\n",
    "\n",
    "TIME_STEP = 1  \n",
    "INPUT_SIZE = 512  \n",
    "INIT_LR = 0.02  \n",
    "N_EPOCHS = 200  \n",
    "\n",
    "\n",
    "class RNN(nn.Module):\n",
    "    def __init__(self):\n",
    "        super(RNN, self).__init__()\n",
    "        self.rnn = nn.RNN(\n",
    "            input_size=INPUT_SIZE,\n",
    "            hidden_size=256,  \n",
    "            num_layers=1,  \n",
    "        )\n",
    "        self.out = nn.Linear(256, 140)\n",
    "\n",
    "    def forward(self, x, h):\n",
    "        # x (time_step, batch_size, input_size)\n",
    "        # h (n_layers, batch, hidden_size)\n",
    "        # out (time_step, batch_size, hidden_size)\n",
    "        out, h = self.rnn(x, h)\n",
    "        prediction = self.out(out)\n",
    "        return prediction, h\n",
    "\n",
    "\n",
    "rnn = RNN()\n",
    "print(rnn)\n"
   ]
  },
  {
   "cell_type": "code",
   "execution_count": 6,
   "id": "cce40366-d1fa-4a24-ac4d-d0aa2947c802",
   "metadata": {},
   "outputs": [
    {
     "name": "stdout",
     "output_type": "stream",
     "text": [
      "(70988, 512)\n",
      "torch.Size([70988, 1, 512])\n",
      "Epoch=0 loss=15.085948944091797\n",
      "Epoch=5 loss=6.234812259674072\n",
      "Epoch=10 loss=5.139936923980713\n",
      "Epoch=15 loss=4.099538803100586\n",
      "Epoch=20 loss=3.6375885009765625\n",
      "Epoch=25 loss=3.3653881549835205\n",
      "Epoch=30 loss=3.16005277633667\n",
      "Epoch=35 loss=3.0219593048095703\n",
      "Epoch=40 loss=2.911156415939331\n",
      "Epoch=45 loss=2.8283615112304688\n",
      "Epoch=50 loss=2.762176513671875\n",
      "Epoch=55 loss=2.7098398208618164\n",
      "Epoch=60 loss=2.6681408882141113\n",
      "Epoch=65 loss=2.6329500675201416\n",
      "Epoch=70 loss=2.6043338775634766\n",
      "Epoch=75 loss=2.5798699855804443\n",
      "Epoch=80 loss=2.5590834617614746\n",
      "Epoch=85 loss=2.5412113666534424\n",
      "Epoch=90 loss=2.525472640991211\n",
      "Epoch=95 loss=2.511753559112549\n",
      "Epoch=100 loss=2.4995908737182617\n",
      "Epoch=105 loss=2.4887871742248535\n",
      "Epoch=110 loss=2.479078531265259\n",
      "Epoch=115 loss=2.4705095291137695\n",
      "Epoch=120 loss=2.462122678756714\n",
      "Epoch=125 loss=2.454838275909424\n",
      "Epoch=130 loss=2.447923421859741\n",
      "Epoch=135 loss=2.441408634185791\n",
      "Epoch=140 loss=2.4356276988983154\n",
      "Epoch=145 loss=2.429701089859009\n",
      "Epoch=150 loss=2.4245481491088867\n",
      "Epoch=155 loss=2.418886423110962\n",
      "Epoch=160 loss=2.413724899291992\n",
      "Epoch=165 loss=2.4113516807556152\n",
      "Epoch=170 loss=2.4055066108703613\n",
      "Epoch=175 loss=2.4010605812072754\n",
      "Epoch=180 loss=2.3990702629089355\n",
      "Epoch=185 loss=2.3937013149261475\n",
      "Epoch=190 loss=2.3901422023773193\n",
      "Epoch=195 loss=2.3880832195281982\n"
     ]
    }
   ],
   "source": [
    "device = torch.device('cuda:0')\n",
    "rnn=rnn.to(device)\n",
    "optimizer = torch.optim.Adam(rnn.parameters(), lr=INIT_LR)\n",
    "loss_func = nn.MSELoss().to(device)\n",
    "h_state = None \n",
    "\n",
    "X_svd=np.array(X_svd)\n",
    "print(X_svd.shape)\n",
    "#X_svd=np.reshape(X_svd, (X_svd.shape[0], 1, 512))\n",
    "X_svd= torch.from_numpy(X_svd[:, np.newaxis]).to(device)\n",
    "print(X_svd.shape)\n",
    "Y=np.array(Y)\n",
    "Y= torch.from_numpy(Y[:, np.newaxis]).to(device)\n",
    "\n",
    "for step in range(N_EPOCHS):\n",
    "    start, end = step * 100, (step + 1) * 100  # 时间跨度\n",
    "    steps = np.linspace(start, end, TIME_STEP, dtype=np.float32, endpoint=False)\n",
    "    #print(steps)\n",
    "    \n",
    "    prediction, h_state = rnn(X_svd, h_state)  \n",
    "    h_state = h_state.detach() \n",
    "    loss = loss_func(prediction, Y)\n",
    "    if step%5==0:\n",
    "        print('Epoch={} loss={}'.format(step,loss.item() ))\n",
    "    optimizer.zero_grad()\n",
    "    loss.backward()\n",
    "    optimizer.step()"
   ]
  },
  {
   "cell_type": "code",
   "execution_count": null,
   "id": "b8370f89-bfc6-4ec5-912c-5a55f0516e64",
   "metadata": {},
   "outputs": [],
   "source": []
  }
 ],
 "metadata": {
  "kernelspec": {
   "display_name": "Python 3 (ipykernel)",
   "language": "python",
   "name": "python3"
  },
  "language_info": {
   "codemirror_mode": {
    "name": "ipython",
    "version": 3
   },
   "file_extension": ".py",
   "mimetype": "text/x-python",
   "name": "python",
   "nbconvert_exporter": "python",
   "pygments_lexer": "ipython3",
   "version": "3.8.10"
  }
 },
 "nbformat": 4,
 "nbformat_minor": 5
}
