{
 "cells": [
  {
   "cell_type": "code",
   "execution_count": 1,
   "id": "afb2ab92-b343-4db6-a0d3-cdc43a207dba",
   "metadata": {},
   "outputs": [],
   "source": [
    "import os, gc, pickle, scipy.sparse\n",
    "import pandas as pd\n",
    "import matplotlib.pyplot as plt\n",
    "import numpy as np\n",
    "from colorama import Fore, Back, Style\n",
    "from matplotlib.ticker import MaxNLocator\n",
    "\n",
    "from sklearn.model_selection import GroupKFold\n",
    "from sklearn.decomposition import TruncatedSVD\n",
    "from sklearn.metrics import mean_squared_error"
   ]
  },
  {
   "cell_type": "code",
   "execution_count": 2,
   "id": "ea90ae92-e4b8-42db-9073-401cae42eee1",
   "metadata": {},
   "outputs": [
    {
     "name": "stdout",
     "output_type": "stream",
     "text": [
      "(119651, 4)\n",
      "              day  donor cell_type technology\n",
      "cell_id                                      \n",
      "c2150f55becb    2  27678       HSC    citeseq\n",
      "65b7edf8a4da    2  27678       HSC    citeseq\n",
      "c1b26cb1057b    2  27678      EryP    citeseq\n",
      "917168fa6f83    2  27678      NeuP    citeseq\n",
      "2b29feeca86d    2  27678      EryP    citeseq\n"
     ]
    }
   ],
   "source": [
    "metadata_df = pd.read_csv(r'metadata.csv', index_col='cell_id')\n",
    "metadata_df = metadata_df[metadata_df.technology==\"citeseq\"]\n",
    "print(metadata_df.shape)\n",
    "print(metadata_df.head(5))"
   ]
  },
  {
   "cell_type": "code",
   "execution_count": 3,
   "id": "4c086690-88dc-41e8-8a8b-fe60c0f89d4b",
   "metadata": {},
   "outputs": [
    {
     "name": "stdout",
     "output_type": "stream",
     "text": [
      "(70988, 140)\n",
      "gene_id           CD86     CD274     CD270     CD155     CD112      CD47  \\\n",
      "cell_id                                                                    \n",
      "45006fe3e4c8  1.167804  0.622530  0.106959  0.324989  3.331674  6.426002   \n",
      "d02759a80ba2  0.818970  0.506009  1.078682  6.848758  3.524885  5.279456   \n",
      "c016c6b0efa5 -0.356703 -0.422261 -0.824493  1.137495  0.518924  7.221962   \n",
      "ba7f733a4f75 -1.201507  0.149115  2.022468  6.021595  7.258670  2.792436   \n",
      "fbcf2443ffb2 -0.100404  0.697461  0.625836 -0.298404  1.369898  3.254521   \n",
      "\n",
      "gene_id            CD48      CD40     CD154      CD52  ...      CD94  \\\n",
      "cell_id                                                ...             \n",
      "45006fe3e4c8   1.480766 -0.728392 -0.468851 -0.073285  ... -0.448390   \n",
      "d02759a80ba2   4.930438  2.069372  0.333652 -0.468088  ...  0.323613   \n",
      "c016c6b0efa5  -0.375034  1.738071  0.142919 -0.971460  ...  1.348692   \n",
      "ba7f733a4f75  21.708519 -0.137913  1.649969 -0.754680  ...  1.504426   \n",
      "fbcf2443ffb2  -1.659380  0.643531  0.902710  1.291877  ...  0.777023   \n",
      "\n",
      "gene_id           CD162     CD85j      CD23     CD328     HLA-E      CD82  \\\n",
      "cell_id                                                                     \n",
      "45006fe3e4c8   3.220174 -0.533004  0.674956 -0.006187  0.682148  1.398105   \n",
      "d02759a80ba2   8.407108  0.131301  0.047607 -0.243628  0.547864  1.832587   \n",
      "c016c6b0efa5   4.888579 -0.279483 -0.131097 -0.177604 -0.689188  9.013709   \n",
      "ba7f733a4f75  12.391979  0.511394  0.587863 -0.752638  1.714851  3.893782   \n",
      "fbcf2443ffb2   6.496499  0.279898 -0.841950 -0.869419  0.675092  5.259685   \n",
      "\n",
      "gene_id          CD101      CD88     CD224  \n",
      "cell_id                                     \n",
      "45006fe3e4c8  0.414292  1.780314  0.548070  \n",
      "d02759a80ba2  0.982308  2.736507  2.184063  \n",
      "c016c6b0efa5 -1.182975  3.958148  2.868600  \n",
      "ba7f733a4f75  1.799661  1.537249  4.407671  \n",
      "fbcf2443ffb2 -0.835379  9.631781  1.765445  \n",
      "\n",
      "[5 rows x 140 columns]\n"
     ]
    }
   ],
   "source": [
    "Y = pd.read_hdf('train_cite_targets.h5')\n",
    "print(Y.shape)\n",
    "print(Y.head(5))"
   ]
  },
  {
   "cell_type": "code",
   "execution_count": 4,
   "id": "6c1aecc6-fbe2-436e-8900-fa84b409ac34",
   "metadata": {},
   "outputs": [
    {
     "name": "stdout",
     "output_type": "stream",
     "text": [
      "(70988, 22050)\n",
      "gene_id       ENSG00000121410_A1BG  ENSG00000268895_A1BG-AS1  \\\n",
      "cell_id                                                        \n",
      "45006fe3e4c8                   0.0                       0.0   \n",
      "d02759a80ba2                   0.0                       0.0   \n",
      "c016c6b0efa5                   0.0                       0.0   \n",
      "ba7f733a4f75                   0.0                       0.0   \n",
      "fbcf2443ffb2                   0.0                       0.0   \n",
      "\n",
      "gene_id       ENSG00000175899_A2M  ENSG00000245105_A2M-AS1  \\\n",
      "cell_id                                                      \n",
      "45006fe3e4c8                  0.0                      0.0   \n",
      "d02759a80ba2                  0.0                      0.0   \n",
      "c016c6b0efa5                  0.0                      0.0   \n",
      "ba7f733a4f75                  0.0                      0.0   \n",
      "fbcf2443ffb2                  0.0                      0.0   \n",
      "\n",
      "gene_id       ENSG00000166535_A2ML1  ENSG00000128274_A4GALT  \\\n",
      "cell_id                                                       \n",
      "45006fe3e4c8                    0.0                0.000000   \n",
      "d02759a80ba2                    0.0                0.000000   \n",
      "c016c6b0efa5                    0.0                3.847321   \n",
      "ba7f733a4f75                    0.0                0.000000   \n",
      "fbcf2443ffb2                    0.0                0.000000   \n",
      "\n",
      "gene_id       ENSG00000094914_AAAS  ENSG00000081760_AACS  \\\n",
      "cell_id                                                    \n",
      "45006fe3e4c8              0.000000              0.000000   \n",
      "d02759a80ba2              0.000000              0.000000   \n",
      "c016c6b0efa5              0.000000              3.847321   \n",
      "ba7f733a4f75              3.436846              3.436846   \n",
      "fbcf2443ffb2              0.000000              4.196826   \n",
      "\n",
      "gene_id       ENSG00000109576_AADAT  ENSG00000103591_AAGAB  ...  \\\n",
      "cell_id                                                     ...   \n",
      "45006fe3e4c8               0.000000                    0.0  ...   \n",
      "d02759a80ba2               0.000000                    0.0  ...   \n",
      "c016c6b0efa5               3.847321                    0.0  ...   \n",
      "ba7f733a4f75               0.000000                    0.0  ...   \n",
      "fbcf2443ffb2               0.000000                    0.0  ...   \n",
      "\n",
      "gene_id       ENSG00000153975_ZUP1  ENSG00000086827_ZW10  \\\n",
      "cell_id                                                    \n",
      "45006fe3e4c8              0.000000              0.000000   \n",
      "d02759a80ba2              0.000000              0.000000   \n",
      "c016c6b0efa5              0.000000              0.000000   \n",
      "ba7f733a4f75              3.436846              0.000000   \n",
      "fbcf2443ffb2              0.000000              4.196826   \n",
      "\n",
      "gene_id       ENSG00000174442_ZWILCH  ENSG00000122952_ZWINT  \\\n",
      "cell_id                                                       \n",
      "45006fe3e4c8                0.000000               0.000000   \n",
      "d02759a80ba2                0.000000               4.039545   \n",
      "c016c6b0efa5                3.847321               4.529743   \n",
      "ba7f733a4f75                4.113780               5.020215   \n",
      "fbcf2443ffb2                4.196826               4.196826   \n",
      "\n",
      "gene_id       ENSG00000198205_ZXDA  ENSG00000198455_ZXDB  \\\n",
      "cell_id                                                    \n",
      "45006fe3e4c8                   0.0                   0.0   \n",
      "d02759a80ba2                   0.0                   0.0   \n",
      "c016c6b0efa5                   0.0                   0.0   \n",
      "ba7f733a4f75                   0.0                   0.0   \n",
      "fbcf2443ffb2                   0.0                   0.0   \n",
      "\n",
      "gene_id       ENSG00000070476_ZXDC  ENSG00000162378_ZYG11B  \\\n",
      "cell_id                                                      \n",
      "45006fe3e4c8               0.00000                0.000000   \n",
      "d02759a80ba2               0.00000                0.000000   \n",
      "c016c6b0efa5               0.00000                3.847321   \n",
      "ba7f733a4f75               0.00000                3.436846   \n",
      "fbcf2443ffb2               3.51861                4.196826   \n",
      "\n",
      "gene_id       ENSG00000159840_ZYX  ENSG00000074755_ZZEF1  \n",
      "cell_id                                                   \n",
      "45006fe3e4c8             4.090185                    0.0  \n",
      "d02759a80ba2             0.000000                    0.0  \n",
      "c016c6b0efa5             3.847321                    0.0  \n",
      "ba7f733a4f75             4.113780                    0.0  \n",
      "fbcf2443ffb2             3.518610                    0.0  \n",
      "\n",
      "[5 rows x 22050 columns]\n"
     ]
    }
   ],
   "source": [
    "X = pd.read_hdf('train_cite_inputs.h5')\n",
    "print(X.shape)\n",
    "print(X.head(5))"
   ]
  },
  {
   "cell_type": "code",
   "execution_count": 5,
   "id": "75edfcbc-7395-49ae-a899-a795f1f7b68b",
   "metadata": {},
   "outputs": [
    {
     "name": "stdout",
     "output_type": "stream",
     "text": [
      "Original X shape: (70988, 22050) 5.831 GByte\n"
     ]
    },
    {
     "data": {
      "text/plain": [
       "0"
      ]
     },
     "execution_count": 5,
     "metadata": {},
     "output_type": "execute_result"
    }
   ],
   "source": [
    "cell_index = X.index\n",
    "meta = metadata_df.reindex(cell_index)\n",
    "print(f\"Original X shape: {str(X.shape):14} {X.size*4/1024/1024/1024:2.3f} GByte\")\n",
    "gc.collect()\n",
    "X = scipy.sparse.csr_matrix(X.values)\n",
    "gc.collect()"
   ]
  },
  {
   "cell_type": "code",
   "execution_count": 6,
   "id": "77a31df5-80c4-4ee7-ad3d-042c95622ab9",
   "metadata": {},
   "outputs": [
    {
     "name": "stdout",
     "output_type": "stream",
     "text": [
      "Shape of both before SVD: (70988, 22050)\n",
      "Shape of both after SVD:  (70988, 512)\n"
     ]
    }
   ],
   "source": [
    "print(f\"Shape of both before SVD: {X.shape}\")\n",
    "svd = TruncatedSVD(n_components=512, random_state=1) # 512\n",
    "X_svd = svd.fit_transform(X)\n",
    "print(f\"Shape of both after SVD:  {X_svd.shape}\")"
   ]
  },
  {
   "cell_type": "code",
   "execution_count": 7,
   "id": "bbdf17af-8295-431c-b740-f09243948b8b",
   "metadata": {},
   "outputs": [],
   "source": [
    "#存成pckl形式节省时间\n",
    "import pickle\n",
    "f = open('X_svd.pckl', 'wb')\n",
    "pickle.dump(X_svd, f)\n",
    "f.close()"
   ]
  },
  {
   "cell_type": "code",
   "execution_count": 11,
   "id": "d3f421e7-ccc6-483e-8b7d-1367281d9add",
   "metadata": {},
   "outputs": [],
   "source": [
    "def correlation_score(y_true, y_pred):\n",
    "    if type(y_true) == pd.DataFrame: y_true = y_true.values\n",
    "    if type(y_pred) == pd.DataFrame: y_pred = y_pred.values\n",
    "    corrsum = 0\n",
    "    for i in range(len(y_true)):\n",
    "        corrsum += np.corrcoef(y_true[i], y_pred[i])[1, 0]\n",
    "    return corrsum / len(y_true)"
   ]
  },
  {
   "cell_type": "code",
   "execution_count": 12,
   "id": "d36bfc97-4777-4ac9-aa37-30771d362abe",
   "metadata": {},
   "outputs": [
    {
     "name": "stdout",
     "output_type": "stream",
     "text": [
      "MLP(\n",
      "  (hidden1): Linear(in_features=512, out_features=256, bias=True)\n",
      "  (hidden2): Linear(in_features=256, out_features=140, bias=True)\n",
      ")\n"
     ]
    }
   ],
   "source": [
    "import torch\n",
    "import torch.nn as nn\n",
    "from torch.optim import SGD,Adam\n",
    "from torch.autograd import Variable\n",
    "import torch.nn.functional as F\n",
    "class MLP(nn.Module):\n",
    "    def __init__(self):\n",
    "        super(MLP,self).__init__()\n",
    "        self.hidden1=nn.Linear(in_features=512,out_features=256,bias=True)\n",
    "        self.hidden2=nn.Linear(256,140)\n",
    "        \n",
    "    def forward(self,x):\n",
    "        x=F.relu(self.hidden1(x))\n",
    "        output=self.hidden2(x)\n",
    "        return output\n",
    "mlp=MLP()\n",
    "print(mlp)        \n",
    "        \n",
    "        "
   ]
  },
  {
   "cell_type": "code",
   "execution_count": 18,
   "id": "fa63eeef-a045-4fa8-bbb8-3eb63bb04af4",
   "metadata": {},
   "outputs": [],
   "source": [
    "import torch.utils.data as Data\n",
    "X=torch.from_numpy(X_svd.astype(np.float32))\n",
    "Y=np.array(Y)\n",
    "Y=torch.from_numpy(Y.astype(np.float32))\n",
    "train_data=Data.TensorDataset(X,Y)\n",
    "train_loader=Data.DataLoader(dataset=train_data,batch_size=4096,shuffle=True,num_workers=0)"
   ]
  },
  {
   "cell_type": "code",
   "execution_count": 19,
   "id": "f5b97210-82c5-4a41-b0cc-d89005fda630",
   "metadata": {},
   "outputs": [
    {
     "name": "stdout",
     "output_type": "stream",
     "text": [
      "Epoch=0 loss=2.7131641620836535\n",
      "Epoch=5 loss=2.7175598742357745\n",
      "Epoch=10 loss=2.783204019267828\n",
      "Epoch=15 loss=2.717164559479048\n",
      "Epoch=20 loss=2.6871127448982337\n",
      "Epoch=25 loss=2.68901474933836\n",
      "Epoch=30 loss=2.6753204198409426\n",
      "Epoch=35 loss=2.712481170639143\n",
      "Epoch=40 loss=2.655567690091126\n",
      "Epoch=45 loss=2.667031989498206\n",
      "Epoch=50 loss=2.6772681033167296\n",
      "Epoch=55 loss=2.67260834886879\n",
      "Epoch=60 loss=2.652836464798443\n",
      "Epoch=65 loss=2.6644095359281423\n",
      "Epoch=70 loss=2.638566842890326\n",
      "Epoch=75 loss=2.6301489575195225\n",
      "Epoch=80 loss=2.6244608960689315\n",
      "Epoch=85 loss=2.621786571297302\n",
      "Epoch=90 loss=2.691368432718579\n",
      "Epoch=95 loss=2.615667095760389\n",
      "Epoch=100 loss=2.650921754100299\n",
      "Epoch=105 loss=2.620020844670775\n",
      "Epoch=110 loss=2.634805714626638\n",
      "Epoch=115 loss=2.6160130263140635\n",
      "Epoch=120 loss=2.5998920588021264\n",
      "Epoch=125 loss=2.6003416876406806\n",
      "Epoch=130 loss=2.5947563621220926\n",
      "Epoch=135 loss=2.597401530949399\n",
      "Epoch=140 loss=2.642548188106197\n",
      "Epoch=145 loss=2.5877286801037536\n",
      "Epoch=150 loss=2.588817597993926\n",
      "Epoch=155 loss=2.584122598933631\n",
      "Epoch=160 loss=2.57579681468546\n",
      "Epoch=165 loss=2.5852955706510343\n",
      "Epoch=170 loss=2.5753533860733926\n",
      "Epoch=175 loss=2.571649116576944\n",
      "Epoch=180 loss=2.569431604234482\n",
      "Epoch=185 loss=2.565723756672584\n",
      "Epoch=190 loss=2.583515270116222\n",
      "Epoch=195 loss=2.5654348157496965\n"
     ]
    }
   ],
   "source": [
    "import warnings\n",
    "warnings.filterwarnings(\"ignore\")\n",
    "device = torch.device('cuda:0')\n",
    "mlp=mlp.to(device)\n",
    "\n",
    "optimizer=torch.optim.SGD(mlp.parameters(),lr=0.005)\n",
    "loss_func=nn.MSELoss().to(device)\n",
    "train_loss_all=[]\n",
    "for epoch in range(200):\n",
    "    train_loss=0\n",
    "    train_num=0\n",
    "    for step, (b_x,b_y) in enumerate(train_loader):\n",
    "        b_x=b_x.to(device)\n",
    "        b_y=b_y.to(device)\n",
    "        output=mlp(b_x)\n",
    "        loss=loss_func(output,b_y)\n",
    "        optimizer.zero_grad()\n",
    "        loss.backward()\n",
    "        optimizer.step()\n",
    "        train_loss+=loss.item()*b_x.size(0)\n",
    "        train_num+=b_x.size(0)\n",
    "        loss1=train_loss/train_num\n",
    "    train_loss_all.append(train_loss/train_num)\n",
    "    if epoch%5==0:\n",
    "        print('Epoch={} loss={}'.format(epoch,loss1 ))\n",
    "    "
   ]
  },
  {
   "cell_type": "code",
   "execution_count": 24,
   "id": "1213cda2-654e-46ba-b369-2c7e2d8d7929",
   "metadata": {},
   "outputs": [],
   "source": [
    "torch.save(mlp,'mlp.pt')"
   ]
  },
  {
   "cell_type": "code",
   "execution_count": 25,
   "id": "74928b42-ce00-4b0f-9b75-b804cb20d405",
   "metadata": {},
   "outputs": [
    {
     "name": "stdout",
     "output_type": "stream",
     "text": [
      "(48663, 22050)\n",
      "gene_id       ENSG00000121410_A1BG  ENSG00000268895_A1BG-AS1  \\\n",
      "cell_id                                                        \n",
      "c2150f55becb                   0.0                       0.0   \n",
      "65b7edf8a4da                   0.0                       0.0   \n",
      "c1b26cb1057b                   0.0                       0.0   \n",
      "917168fa6f83                   0.0                       0.0   \n",
      "2b29feeca86d                   0.0                       0.0   \n",
      "\n",
      "gene_id       ENSG00000175899_A2M  ENSG00000245105_A2M-AS1  \\\n",
      "cell_id                                                      \n",
      "c2150f55becb                  0.0                      0.0   \n",
      "65b7edf8a4da                  0.0                      0.0   \n",
      "c1b26cb1057b                  0.0                      0.0   \n",
      "917168fa6f83                  0.0                      0.0   \n",
      "2b29feeca86d                  0.0                      0.0   \n",
      "\n",
      "gene_id       ENSG00000166535_A2ML1  ENSG00000128274_A4GALT  \\\n",
      "cell_id                                                       \n",
      "c2150f55becb                    0.0                0.000000   \n",
      "65b7edf8a4da                    0.0                0.000000   \n",
      "c1b26cb1057b                    0.0                3.847321   \n",
      "917168fa6f83                    0.0                0.000000   \n",
      "2b29feeca86d                    0.0                0.000000   \n",
      "\n",
      "gene_id       ENSG00000094914_AAAS  ENSG00000081760_AACS  \\\n",
      "cell_id                                                    \n",
      "c2150f55becb              0.000000              0.000000   \n",
      "65b7edf8a4da              0.000000              0.000000   \n",
      "c1b26cb1057b              0.000000              3.847321   \n",
      "917168fa6f83              3.436846              3.436846   \n",
      "2b29feeca86d              0.000000              4.196826   \n",
      "\n",
      "gene_id       ENSG00000109576_AADAT  ENSG00000103591_AAGAB  ...  \\\n",
      "cell_id                                                     ...   \n",
      "c2150f55becb               0.000000                    0.0  ...   \n",
      "65b7edf8a4da               0.000000                    0.0  ...   \n",
      "c1b26cb1057b               3.847321                    0.0  ...   \n",
      "917168fa6f83               0.000000                    0.0  ...   \n",
      "2b29feeca86d               0.000000                    0.0  ...   \n",
      "\n",
      "gene_id       ENSG00000153975_ZUP1  ENSG00000086827_ZW10  \\\n",
      "cell_id                                                    \n",
      "c2150f55becb              0.000000              0.000000   \n",
      "65b7edf8a4da              0.000000              0.000000   \n",
      "c1b26cb1057b              0.000000              0.000000   \n",
      "917168fa6f83              3.436846              0.000000   \n",
      "2b29feeca86d              0.000000              4.196826   \n",
      "\n",
      "gene_id       ENSG00000174442_ZWILCH  ENSG00000122952_ZWINT  \\\n",
      "cell_id                                                       \n",
      "c2150f55becb                0.000000               0.000000   \n",
      "65b7edf8a4da                0.000000               4.039545   \n",
      "c1b26cb1057b                3.847321               4.529743   \n",
      "917168fa6f83                4.113780               5.020215   \n",
      "2b29feeca86d                4.196826               4.196826   \n",
      "\n",
      "gene_id       ENSG00000198205_ZXDA  ENSG00000198455_ZXDB  \\\n",
      "cell_id                                                    \n",
      "c2150f55becb                   0.0                   0.0   \n",
      "65b7edf8a4da                   0.0                   0.0   \n",
      "c1b26cb1057b                   0.0                   0.0   \n",
      "917168fa6f83                   0.0                   0.0   \n",
      "2b29feeca86d                   0.0                   0.0   \n",
      "\n",
      "gene_id       ENSG00000070476_ZXDC  ENSG00000162378_ZYG11B  \\\n",
      "cell_id                                                      \n",
      "c2150f55becb               0.00000                0.000000   \n",
      "65b7edf8a4da               0.00000                0.000000   \n",
      "c1b26cb1057b               0.00000                3.847321   \n",
      "917168fa6f83               0.00000                3.436846   \n",
      "2b29feeca86d               3.51861                4.196826   \n",
      "\n",
      "gene_id       ENSG00000159840_ZYX  ENSG00000074755_ZZEF1  \n",
      "cell_id                                                   \n",
      "c2150f55becb             4.090185                    0.0  \n",
      "65b7edf8a4da             0.000000                    0.0  \n",
      "c1b26cb1057b             3.847321                    0.0  \n",
      "917168fa6f83             4.113780                    0.0  \n",
      "2b29feeca86d             3.518610                    0.0  \n",
      "\n",
      "[5 rows x 22050 columns]\n"
     ]
    }
   ],
   "source": [
    "X_test = pd.read_hdf('test_cite_inputs.h5')\n",
    "print(X_test.shape)\n",
    "print(X_test.head(5))"
   ]
  },
  {
   "cell_type": "code",
   "execution_count": 26,
   "id": "a41480e5-5111-4f51-a96b-2e93a2215e3e",
   "metadata": {},
   "outputs": [
    {
     "name": "stdout",
     "output_type": "stream",
     "text": [
      "Shape of both before SVD: (48663, 22050)\n",
      "Shape of both after SVD:  (48663, 512)\n"
     ]
    }
   ],
   "source": [
    "X_test = scipy.sparse.csr_matrix(X_test.values)\n",
    "gc.collect()\n",
    "print(f\"Shape of both before SVD: {X_test.shape}\")\n",
    "svd = TruncatedSVD(n_components=512, random_state=1) # 512\n",
    "X_test_svd = svd.fit_transform(X_test)\n",
    "print(f\"Shape of both after SVD:  {X_test_svd.shape}\")"
   ]
  },
  {
   "cell_type": "code",
   "execution_count": 28,
   "id": "7c1f3831-ed96-4304-a2cb-0f568bd3b8cd",
   "metadata": {},
   "outputs": [
    {
     "ename": "ValueError",
     "evalue": "write to closed file",
     "output_type": "error",
     "traceback": [
      "\u001b[0;31m---------------------------------------------------------------------------\u001b[0m",
      "\u001b[0;31mValueError\u001b[0m                                Traceback (most recent call last)",
      "\u001b[0;32m/tmp/ipykernel_568/3292115366.py\u001b[0m in \u001b[0;36m<module>\u001b[0;34m\u001b[0m\n\u001b[1;32m      2\u001b[0m \u001b[0;32mimport\u001b[0m \u001b[0mpickle\u001b[0m\u001b[0;34m\u001b[0m\u001b[0;34m\u001b[0m\u001b[0m\n\u001b[1;32m      3\u001b[0m \u001b[0mf1\u001b[0m \u001b[0;34m=\u001b[0m \u001b[0mopen\u001b[0m\u001b[0;34m(\u001b[0m\u001b[0;34m'X_test_svd.pckl'\u001b[0m\u001b[0;34m,\u001b[0m \u001b[0;34m'wb'\u001b[0m\u001b[0;34m)\u001b[0m\u001b[0;34m\u001b[0m\u001b[0;34m\u001b[0m\u001b[0m\n\u001b[0;32m----> 4\u001b[0;31m \u001b[0mpickle\u001b[0m\u001b[0;34m.\u001b[0m\u001b[0mdump\u001b[0m\u001b[0;34m(\u001b[0m\u001b[0mX_test_svd\u001b[0m\u001b[0;34m,\u001b[0m \u001b[0mf\u001b[0m\u001b[0;34m)\u001b[0m\u001b[0;34m\u001b[0m\u001b[0;34m\u001b[0m\u001b[0m\n\u001b[0m\u001b[1;32m      5\u001b[0m \u001b[0mf1\u001b[0m\u001b[0;34m.\u001b[0m\u001b[0mclose\u001b[0m\u001b[0;34m(\u001b[0m\u001b[0;34m)\u001b[0m\u001b[0;34m\u001b[0m\u001b[0;34m\u001b[0m\u001b[0m\n",
      "\u001b[0;31mValueError\u001b[0m: write to closed file"
     ]
    }
   ],
   "source": [
    "#存成pckl形式节省时间\n",
    "import pickle\n",
    "f1 = open('X_test_svd.pckl', 'wb')\n",
    "pickle.dump(X_test_svd, f)\n",
    "f1.close()"
   ]
  },
  {
   "cell_type": "code",
   "execution_count": null,
   "id": "f5f747ed-f2d9-4241-9d00-90f7c778626d",
   "metadata": {},
   "outputs": [],
   "source": []
  }
 ],
 "metadata": {
  "kernelspec": {
   "display_name": "Python 3 (ipykernel)",
   "language": "python",
   "name": "python3"
  },
  "language_info": {
   "codemirror_mode": {
    "name": "ipython",
    "version": 3
   },
   "file_extension": ".py",
   "mimetype": "text/x-python",
   "name": "python",
   "nbconvert_exporter": "python",
   "pygments_lexer": "ipython3",
   "version": "3.8.10"
  }
 },
 "nbformat": 4,
 "nbformat_minor": 5
}
